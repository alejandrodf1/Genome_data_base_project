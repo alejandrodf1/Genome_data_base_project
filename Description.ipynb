{
 "cells": [
  {
   "cell_type": "markdown",
   "source": "# Genome data base project (Delgado project)\nThis publication will show how to create a data base from scratch. I will focus on creating a genome data base. We have to set or define some things such as: \n* Entities\n* Attributes",
   "metadata": {
    "tags": [],
    "cell_id": "00000-c62165fe-8c5f-4199-8ac3-cfef9c409072",
    "deepnote_cell_type": "markdown"
   }
  },
  {
   "cell_type": "markdown",
   "source": "# Entities and attributes\nThis are the base for any database which represents somethings of the real world for our example we are going to consider 9 entites.\n1. **LOCUS** : Contain general information about the genome for instance, locus name, sequence length, molecule type, division, modification date.\n\nWe can describe each attribute of LOCUS as follows:\n* **Locus name**: *SCU49845 (EXAMPLE)* To group entries with similar sequences. 3 characters represents the organism the fourth and fifth characters show other designations such as, gene product. This code are unstable may change in time so it is better to serah for the actual accession.\n\n* **Sequence length**: numbers of nucleotide base pairs\n* **Molecule type**: may include DNA, genomic RNA, precursor RNA, mRNA (cDNA), ribosomal RNA, transfer RNA, small nuclear mRNa, and small cytoplasmic RNA\n* **Division**: code which represents organisms division (primate, rodent, plant, patent, etc) (etiqueta)\n* **Modification date**: date of last modifications\n",
   "metadata": {
    "tags": [],
    "cell_id": "00001-32112f9c-76c7-40dd-97a9-bb7699c4148a",
    "deepnote_cell_type": "markdown"
   }
  },
  {
   "cell_type": "markdown",
   "source": "2. **Definition**: Description of sequence, for instance, source organism, gene name, protein name, function about the sequence.\n3. **Accession**: The unique identifier for a sequence record. This number does not change\n4. **version**: nucleotide sequence identification number that represents a single, specific sequence. The structure is *accesion.version* \n5. **GI**: 'GenInfo Identifier' sequence identification number, for nucleotide sequence. If a sequence changes in any way, a new GI number will be assigned. There is a GI for proteins too. GI runs parallel to the new accesion.version system of sequence identifiers.  \n6. **Keywords**: word or phrase describing the sequence.\n7. **Source**: To identify the organism \n    * organisms: scientific name for the source organism\n8. **Reference**: Publications by the authors. Authors, title, journal, PUBMED, direct submission\n    * Authors: list of authors\n    * Title: Title of the published work or a tentative title of an unpublished work\n    * journal: Medline abbreviation of the journal name\n    * PUBMED: PubMed identifier\n    * Direct submission: contact information of the submitter.\n9. **Features**: information about genes and genes products, regions of biological significance reported in the sequence.\n    * Source: Mandatory feature in each record that summarizes the length of the sequence, scientific name from the organism, and TAXON ID.\n    * Taxon: stable identifier number for the taxon of the source organism\n    * CDS: 'Coding Sequence', region of nucleotides that corresponds with the sequence of amino acids in the protein. Might be mRNA feature\n    * $$<1..206$$ : indicate to where complete the secuence < indicate the feature extent from base 1 to base 206 in sequence shown, and is partial on the 5' end. However, 425..588> indicate the feature extent from 425 to 588 base and is partial on the 3' end.\n    * protein_id: A protein identifier number, similar to the version number of a nucleotide sequence. 3 letters followed by 5 digits, a dot and version number\n    * translation: the amino acids translation corresponding to the nucleotide coding sequence\n    * gene: A region of biological interest identified as a gene from 5' to 3' features.\n    * Complement: indicates that the feature is located on the complementary strand \n    * other features: more biological features.\n",
   "metadata": {
    "tags": [],
    "cell_id": "00002-d72b45e9-f3a5-476f-acdc-290672899b80",
    "deepnote_cell_type": "markdown"
   }
  },
  {
   "cell_type": "markdown",
   "source": "# Cardinality",
   "metadata": {
    "tags": [],
    "cell_id": "00003-1d06549d-6096-45ad-9e99-9f6cbb8f5c26",
    "deepnote_cell_type": "markdown"
   }
  },
  {
   "cell_type": "markdown",
   "source": "The following images show the cardinatilty between entities and attributes:",
   "metadata": {
    "tags": [],
    "is_collapsed": false,
    "cell_id": "00004-eeffaf59-aaf2-4750-8f1b-b10e5f27f334",
    "deepnote_cell_type": "text-cell-p"
   }
  },
  {
   "cell_type": "markdown",
   "source": "![](LOCUS.png)",
   "metadata": {
    "tags": [],
    "cell_id": "00006-9d419e69-00e2-4356-adef-9c937609ac11",
    "deepnote_cell_type": "markdown"
   }
  },
  {
   "cell_type": "markdown",
   "source": "![](MORE_1.png)",
   "metadata": {
    "tags": [],
    "cell_id": "00006-3ab68b7c-50fa-4cb4-ad5f-46a46cfd6010",
    "deepnote_cell_type": "markdown"
   }
  },
  {
   "cell_type": "markdown",
   "source": "![](more_2.png)",
   "metadata": {
    "tags": [],
    "cell_id": "00007-ccc06944-2750-41fb-acd7-067a6fe809ea",
    "deepnote_cell_type": "markdown"
   }
  },
  {
   "cell_type": "markdown",
   "source": "![](more_3.png)",
   "metadata": {
    "tags": [],
    "cell_id": "00008-d9815364-8eba-40e1-8ac4-06b7cdabbbc8",
    "deepnote_cell_type": "markdown"
   }
  },
  {
   "cell_type": "markdown",
   "source": "# Entity relation model diagram\nThen we can create a entity-relation model for our project to understands the relation between our entry and all the entities that are part. This model was develop in the following page: https://app.diagrams.net ",
   "metadata": {
    "tags": [],
    "cell_id": "00009-e2df2d6a-c877-474e-be9f-4a04f32fe6b6",
    "deepnote_cell_type": "markdown"
   }
  },
  {
   "cell_type": "markdown",
   "source": "![](DATA_BASE_DIAGRAM.png)",
   "metadata": {
    "tags": [],
    "cell_id": "00010-0919d6f4-1032-462b-ad03-03cc2d22f082",
    "deepnote_cell_type": "markdown"
   }
  },
  {
   "cell_type": "code",
   "source": "",
   "metadata": {
    "tags": [],
    "cell_id": "00011-e1bc78bc-1a94-4c7c-8b7b-e09b45386598",
    "deepnote_cell_type": "code"
   },
   "outputs": [],
   "execution_count": null
  },
  {
   "cell_type": "code",
   "source": "",
   "metadata": {
    "tags": [],
    "cell_id": "00006-95199482-43f3-4e48-9665-c0ca6eface63",
    "deepnote_cell_type": "code"
   },
   "outputs": [],
   "execution_count": null
  },
  {
   "cell_type": "code",
   "metadata": {
    "tags": [],
    "cell_id": "00000-9e2b6948-e9c8-4317-928f-2053118abaa8",
    "deepnote_cell_type": "code"
   },
   "source": "",
   "outputs": [],
   "execution_count": null
  },
  {
   "cell_type": "markdown",
   "source": "<a style='text-decoration:none;line-height:16px;display:flex;color:#5B5B62;padding:10px;justify-content:end;' href='https://deepnote.com?utm_source=created-in-deepnote-cell&projectId=ae2b6c3e-9a4e-46f3-9399-d4a03cd92aba' target=\"_blank\">\n<img alt='Created in deepnote.com' style='display:inline;max-height:16px;margin:0px;margin-right:7.5px;' src='data:image/svg+xml;base64,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' > </img>\nCreated in <span style='font-weight:600;margin-left:4px;'>Deepnote</span></a>",
   "metadata": {
    "tags": [],
    "created_in_deepnote_cell": true,
    "deepnote_cell_type": "markdown"
   }
  }
 ],
 "nbformat": 4,
 "nbformat_minor": 2,
 "metadata": {
  "orig_nbformat": 2,
  "deepnote": {
   "is_reactive": false
  },
  "deepnote_notebook_id": "30a86470-fa1b-4674-81a1-c2034c10dd4e",
  "deepnote_execution_queue": []
 }
}